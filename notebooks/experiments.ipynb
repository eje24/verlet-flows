{
 "cells": [
  {
   "cell_type": "code",
   "execution_count": null,
   "id": "02f8f7a3-f59a-4aea-b6f7-a4ac24199fbd",
   "metadata": {},
   "outputs": [],
   "source": [
    "import sys\n",
    "import time\n",
    "import warnings\n",
    "warnings.filterwarnings(\"ignore\", category=UserWarning)\n",
    "\n",
    "import torch\n",
    "import matplotlib.pyplot as plt\n",
    "import numpy as np\n",
    "import tqdm\n",
    "import pandas as pd\n",
    "import seaborn as sns\n",
    "\n",
    "sys.path.append('../')\n",
    "from model.cnf import AugmentedCNF\n",
    "from model.flow_matching import FlowMatching\n",
    "\n",
    "%load_ext autoreload\n",
    "%autoreload 2\n",
    "\n",
    "device = torch.device('cuda' if torch.cuda.is_available() else 'cpu')"
   ]
  },
  {
   "cell_type": "markdown",
   "id": "190e18e0-9567-4717-9fd6-975f99f3a95f",
   "metadata": {},
   "source": [
    "# Load Model"
   ]
  },
  {
   "cell_type": "code",
   "execution_count": null,
   "id": "809de3e0-fcf6-4309-a2a7-5bbc2610bf7b",
   "metadata": {},
   "outputs": [],
   "source": [
    "# CNF-trained model\n",
    "# Verlet CNF\n",
    "# wrapper = AugmentedCNF.load_from_checkpoint('../workdir/verlet_cnf_weird_gaussian_test/epoch=17-val_loss=5.63.ckpt').export_to_wrapper()\n",
    "# wrapper = AugmentedCNF.load_from_checkpoint('../workdir/verlet_cnf_funnel_test/epoch=119-val_loss=5.78.ckpt').export_to_wrapper()\n",
    "# wrapper = AugmentedCNF.load_from_checkpoint('../workdir/verlet_cnf_bimodal_test/epoch=65-val_loss=4.82.ckpt').export_to_wrapper()\n",
    "# wrapper = AugmentedCNF.load_from_checkpoint('../workdir/verlet_cnf_trimodal_test/epoch=89-val_loss=5.71.ckpt').export_to_wrapper()\n",
    "# wrapper = AugmentedCNF.load_from_checkpoint('../workdir/verlet_cnf_pentamodal_test/epoch=59-val_loss=6.42.ckpt').export_to_wrapper()\n",
    "# Non-Verlet CNF\n",
    "# wrapper = AugmentedCNF.load_from_checkpoint('../workdir/nonverlet_cnf_pentamodal_test/epoch=41-val_loss=5.80.ckpt').export_to_wrapper()\n",
    "# wrapper = AugmentedCNF.load_from_checkpoint('../workdir/verlet_cnf_trimodal_test/epoch=89-val_loss=5.71.ckpt').export_to_wrapper()\n",
    "# wrapper = AugmentedCNF.load_from_checkpoint('../workdir/grad_nonverlet_cnf_trimodal0/epoch=05-val_loss=6.14.ckpt').export_to_wrapper()\n",
    "wrapper = AugmentedCNF.load_from_checkpoint('../workdir/verlet_cnf_trimodal1/epoch=53-val_loss=6.08.ckpt').export_to_wrapper()\n",
    "# wrapper = AugmentedCNF.load_from_checkpoint('../workdir/verlet_cnf_weird_gaussian1/epoch=50-val_loss=5.70.ckpt').export_to_wrapper()\n",
    "# Flow-matching-trained model\n",
    "# wrapper = FlowMatching.load_from_checkpoint('../workdir/grad_nonverlet_flowmatching_trimodal0/epoch=23-val_loss=0.41.ckpt').export_to_wrapper()"
   ]
  },
  {
   "cell_type": "code",
   "execution_count": null,
   "id": "6fa36009-3dd3-4e1f-b9a3-3d982549669a",
   "metadata": {},
   "outputs": [],
   "source": [
    "wrapper.graph_forward_marginals(n_samples=100000, n_marginals=5, n_integrator_steps=100)"
   ]
  },
  {
   "cell_type": "code",
   "execution_count": null,
   "id": "f8aac6a4-2c58-4405-89b5-78d06a3d7183",
   "metadata": {},
   "outputs": [],
   "source": [
    "wrapper.graph_flow_marginals(mode='quiver')"
   ]
  },
  {
   "cell_type": "markdown",
   "id": "9cf2dfa2-f0a1-4c33-a651-4cf83fb1b889",
   "metadata": {},
   "source": [
    "# Graphing Importance Weights Using Hutchinson Trace Estimator"
   ]
  },
  {
   "cell_type": "code",
   "execution_count": null,
   "id": "916292e9-d00c-46d2-aa94-d6b97067a6d6",
   "metadata": {},
   "outputs": [],
   "source": [
    "estimates,log_importance_weights = wrapper.estimate_z(n_sample=100000, n_steps=100, integrator='numeric', trace_estimator='hutch_trace', n_trial=1)"
   ]
  },
  {
   "cell_type": "code",
   "execution_count": null,
   "id": "9dd923ed-fb74-4d61-aea2-e207d50cbaa7",
   "metadata": {},
   "outputs": [],
   "source": [
    "# Compute importance_weights\n",
    "weights_df = pd.DataFrame({\n",
    "    'Log Importance Weights': log_importance_weights.detach().cpu().numpy(),  # Convert the tensor to a numpy array\n",
    "})"
   ]
  },
  {
   "cell_type": "code",
   "execution_count": null,
   "id": "1e32b025-a122-4c41-873e-f50171b915a8",
   "metadata": {},
   "outputs": [],
   "source": [
    "g = sns.histplot(weights_df, x='Log Importance Weights')\n",
    "g.set(title='Histogram of Log Importance Weights for Trimodal GMM\\n Using Hutchinson Trace Estimator')\n",
    "fig = g.get_figure()\n",
    "fig.savefig('weights_hist.png')"
   ]
  },
  {
   "cell_type": "markdown",
   "id": "a284aee7-2a1c-4649-87ae-4a5698cea89c",
   "metadata": {},
   "source": [
    "# logZ Estimation"
   ]
  },
  {
   "cell_type": "code",
   "execution_count": null,
   "id": "e629e12a-af79-4d56-94a6-3573222e522f",
   "metadata": {},
   "outputs": [],
   "source": [
    "@torch.no_grad()\n",
    "def get_estimates(wrapper, n_samples: list[int], n_steps: int, n_trials: int, integrator: str) -> pd.DataFrame:\n",
    "    # Initialize an empty list to hold the dataframes to concatenate\n",
    "    list_of_dataframes = []\n",
    "    # Initialize method\n",
    "    if integrator == 'verlet':\n",
    "        method = 'Verlet'\n",
    "    elif integrator == 'numeric':\n",
    "        method = 'Adjoint w/ autograd trace'\n",
    "    \n",
    "    for n_sample in tqdm.tqdm(n_samples):\n",
    "        start = time.time()\n",
    "        z_estimates = wrapper.estimate_z_wrapper(n_sample, n_steps, integrator, trace_estimator='autograd_trace', n_trial=n_trials)\n",
    "        end = time.time()\n",
    "        # Create a DataFrame from the current batch of estimates and add it to the list\n",
    "        current_df = pd.DataFrame({\n",
    "            'log Z Estimate': z_estimates.detach().cpu().numpy(),  # Convert the tensor to a numpy array\n",
    "            'Samples': n_sample,\n",
    "            'Method': method,\n",
    "            'Time (s)': end - start\n",
    "        })\n",
    "        list_of_dataframes.append(current_df)\n",
    "    \n",
    "    # Concatenate all the dataframes in the list into one dataframe\n",
    "    estimates = pd.concat(list_of_dataframes, ignore_index=True)\n",
    "    \n",
    "    return estimates"
   ]
  },
  {
   "cell_type": "code",
   "execution_count": null,
   "id": "f951947d-a3e6-4c60-80c8-c7ba146879a6",
   "metadata": {},
   "outputs": [],
   "source": [
    "# load up estimates.csv\n",
    "estimates = pd.read_csv('estimates.csv')"
   ]
  },
  {
   "cell_type": "code",
   "execution_count": null,
   "id": "b7475b52-46dc-40b1-83fd-0f8c5d3ecf4f",
   "metadata": {},
   "outputs": [],
   "source": [
    "# Setup\n",
    "n_samples_list = np.rint(np.power(5.0, np.linspace(4.0, 5.5, 20))).astype(int).tolist()\n",
    "n_steps = 100\n",
    "n_trials = 150\n",
    "\n",
    "# Compute\n",
    "numeric_estimates = get_estimates(wrapper, n_samples_list, n_steps, n_trials=n_trials, integrator='numeric')\n",
    "verlet_estimates = get_estimates(wrapper, n_samples_list, n_steps, n_trials=n_trials, integrator='verlet')\n",
    "estimates = pd.concat([verlet_estimates, numeric_estimates], ignore_index=True)\n",
    "\n",
    "# Save estimates\n",
    "estimates.to_csv('estimates.csv', index=False)"
   ]
  },
  {
   "cell_type": "markdown",
   "id": "6298a948-39ae-4c0c-84a7-27d4a63689d6",
   "metadata": {},
   "source": [
    "## Graphing Results"
   ]
  },
  {
   "cell_type": "code",
   "execution_count": null,
   "id": "4403d2fe-65aa-4212-a27b-7a27c2c1d09d",
   "metadata": {},
   "outputs": [],
   "source": [
    "# Graph log Z \n",
    "g = sns.lineplot(data=estimates, x=\"Samples\", y=\"log Z Estimate\", hue=\"Method\", errorbar=(\"sd\",1))\n",
    "g.set(xscale='log')\n",
    "g.set(xticks=n_samples_list[::3])\n",
    "g.set(xticklabels=n_samples_list[::3])\n",
    "g.set(title='Comparison of log Z Estimates for Trimodal GMM')\n",
    "fig = g.get_figure()\n",
    "fig.savefig('test_compare.png')"
   ]
  },
  {
   "cell_type": "code",
   "execution_count": null,
   "id": "de40dc1a-397e-4b2f-8529-82d1c4d4bb5d",
   "metadata": {},
   "outputs": [],
   "source": [
    "# Graph time\n",
    "g = sns.lineplot(data=estimates, x=\"Samples\", y=\"Time (s)\", hue=\"Method\")\n",
    "g.set(xscale='log')\n",
    "g.set(xticks=n_samples_list[::3])\n",
    "g.set(xticklabels=n_samples_list[::3])\n",
    "g.set(title='Comparison of log Z Estimation Times for Trimodal GMM')\n",
    "fig = g.get_figure()\n",
    "fig.savefig('test_time.png')"
   ]
  }
 ],
 "metadata": {
  "kernelspec": {
   "display_name": "Python 3 (ipykernel)",
   "language": "python",
   "name": "python3"
  },
  "language_info": {
   "codemirror_mode": {
    "name": "ipython",
    "version": 3
   },
   "file_extension": ".py",
   "mimetype": "text/x-python",
   "name": "python",
   "nbconvert_exporter": "python",
   "pygments_lexer": "ipython3",
   "version": "3.9.16"
  }
 },
 "nbformat": 4,
 "nbformat_minor": 5
}
