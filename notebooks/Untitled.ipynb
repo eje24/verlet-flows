{
 "cells": [
  {
   "cell_type": "code",
   "execution_count": null,
   "id": "6834c944-32f8-4ed2-9790-1103907b23f6",
   "metadata": {},
   "outputs": [],
   "source": [
    "import sys\n",
    "import warnings\n",
    "\n",
    "import torch\n",
    "\n",
    "sys.path.append('../')\n",
    "from datasets.dist import GMM, Gaussian\n",
    "from model.flow import FlowWrapper\n",
    "from utils.parsing import parse_args\n",
    "from datasets.verlet import VerletData\n",
    "\n",
    "# Suppress specific UserWarnings globally\n",
    "warnings.filterwarnings(\"ignore\", category=UserWarning)\n",
    "\n",
    "device = torch.device('cuda' if torch.cuda.is_available() else 'cpu')"
   ]
  },
  {
   "cell_type": "code",
   "execution_count": null,
   "id": "8450c14a-c5b0-43b4-887c-3ec383009fc5",
   "metadata": {},
   "outputs": [],
   "source": [
    "# Initialize default Verlet Flow\n",
    "flow_wrapper = FlowWrapper.load_saved('../workdir/gaussian_sanity_check/best_model.pt')\n",
    "flow_wrapper.eval()"
   ]
  },
  {
   "cell_type": "code",
   "execution_count": null,
   "id": "67453ff4-08e7-4829-845a-2fdd6291677a",
   "metadata": {},
   "outputs": [],
   "source": [
    "flow_wrapper.graph_flow_marginals()"
   ]
  },
  {
   "cell_type": "code",
   "execution_count": null,
   "id": "954420ab-4c53-4337-b81e-2a06b5faa6cf",
   "metadata": {},
   "outputs": [],
   "source": [
    "print(f'Reverse KL loss: {flow_wrapper.reverse_kl_loss(1000, 10)}')\n",
    "samples, _ = flow_wrapper.sample(10,10)\n",
    "print(f'Target density of samples: {flow_wrapper._target.q_density.get_density(samples.q)}')"
   ]
  },
  {
   "cell_type": "code",
   "execution_count": null,
   "id": "0a16a94e-a4f1-432b-8465-e0a64ae0d454",
   "metadata": {},
   "outputs": [],
   "source": [
    "flow_wrapper.graph_end_marginals(400000, 8, xlim=3.0, ylim=3.0)"
   ]
  },
  {
   "cell_type": "code",
   "execution_count": null,
   "id": "675ed9b8-db4c-476d-99e3-501dde33d7a9",
   "metadata": {},
   "outputs": [],
   "source": [
    "flow_wrapper.graph_time_marginals(100000, 8, ylim=3.0, xlim = 2.0)\n"
   ]
  },
  {
   "cell_type": "code",
   "execution_count": null,
   "id": "2e6e5117-244c-49d0-abd8-12e3dac6bcee",
   "metadata": {},
   "outputs": [],
   "source": []
  }
 ],
 "metadata": {
  "kernelspec": {
   "display_name": "verlet",
   "language": "python",
   "name": "verlet"
  },
  "language_info": {
   "codemirror_mode": {
    "name": "ipython",
    "version": 3
   },
   "file_extension": ".py",
   "mimetype": "text/x-python",
   "name": "python",
   "nbconvert_exporter": "python",
   "pygments_lexer": "ipython3",
   "version": "3.9.16"
  }
 },
 "nbformat": 4,
 "nbformat_minor": 5
}
