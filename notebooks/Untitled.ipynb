{
 "cells": [
  {
   "cell_type": "code",
   "execution_count": null,
   "id": "6834c944-32f8-4ed2-9790-1103907b23f6",
   "metadata": {},
   "outputs": [],
   "source": [
    "import sys\n",
    "import warnings\n",
    "\n",
    "import torch\n",
    "\n",
    "sys.path.append('../')\n",
    "from datasets.dist import GMM, Gaussian, Funnel\n",
    "from model.flow import load_saved\n",
    "from utils.parsing import parse_args\n",
    "from datasets.verlet import VerletData\n",
    "\n",
    "# Suppress specific UserWarnings globally\n",
    "warnings.filterwarnings(\"ignore\", category=UserWarning)\n",
    "\n",
    "device = torch.device('cuda' if torch.cuda.is_available() else 'cpu')\n",
    "\n",
    "def get_model_size(model):\n",
    "    param_size = 0\n",
    "    for param in model.parameters():\n",
    "        param_size += param.nelement() * param.element_size()\n",
    "    buffer_size = 0\n",
    "    for buffer in model.buffers():\n",
    "        buffer_size += buffer.nelement() * buffer.element_size()\n",
    "\n",
    "    size_all_mb = (param_size + buffer_size) / 1024**2\n",
    "    print('model size: {:.3f}MB'.format(size_all_mb))"
   ]
  },
  {
   "cell_type": "code",
   "execution_count": null,
   "id": "8450c14a-c5b0-43b4-887c-3ec383009fc5",
   "metadata": {},
   "outputs": [],
   "source": [
    "# Initialize default Verlet Flow\n",
    "flow_wrapper = load_saved('../workdir/emd_test/best_model.pt')\n",
    "get_model_size(flow_wrapper)\n",
    "flow_wrapper.eval()"
   ]
  },
  {
   "cell_type": "code",
   "execution_count": null,
   "id": "954420ab-4c53-4337-b81e-2a06b5faa6cf",
   "metadata": {},
   "outputs": [],
   "source": [
    "print(f'Reverse KL loss: {flow_wrapper.reverse_kl_loss(10000, 10)}')\n",
    "samples, _ = flow_wrapper.sample(10,10)\n",
    "print(f'Target density of samples: {flow_wrapper._target.q_dist.get_density(samples.q)}')"
   ]
  },
  {
   "cell_type": "code",
   "execution_count": null,
   "id": "26f8da6e-ca5e-4b27-b4b2-e5d91e9c27ab",
   "metadata": {},
   "outputs": [],
   "source": [
    "flow_wrapper.graph_flow_marginals()"
   ]
  },
  {
   "cell_type": "code",
   "execution_count": null,
   "id": "0a16a94e-a4f1-432b-8465-e0a64ae0d454",
   "metadata": {},
   "outputs": [],
   "source": [
    "flow_wrapper.graph_end_marginals(400000, 8, xlim=3.0, ylim=3.0)"
   ]
  },
  {
   "cell_type": "code",
   "execution_count": null,
   "id": "675ed9b8-db4c-476d-99e3-501dde33d7a9",
   "metadata": {},
   "outputs": [],
   "source": [
    "flow_wrapper.graph_time_marginals(100000, 8, ylim=3.0, xlim = 2.0)\n"
   ]
  },
  {
   "cell_type": "code",
   "execution_count": null,
   "id": "ad464fea-026a-4ed5-97fa-b29e867c7fff",
   "metadata": {},
   "outputs": [],
   "source": [
    "flow_wrapper._target.q_dist.graph(1000000)"
   ]
  },
  {
   "cell_type": "code",
   "execution_count": null,
   "id": "248d5d02-ad30-427c-985a-b0d438acc583",
   "metadata": {},
   "outputs": [],
   "source": [
    "funnel = Funnel(device, dim=2)\n",
    "funnel.graph(100000)"
   ]
  },
  {
   "cell_type": "code",
   "execution_count": null,
   "id": "47f3ecf8-0062-40f9-a1b1-21815ee80b3e",
   "metadata": {},
   "outputs": [],
   "source": [
    "funnel = Funnel(device, dim=10)\n",
    "samples = funnel.sample(1000)\n",
    "density = funnel.get_density(samples)"
   ]
  },
  {
   "cell_type": "code",
   "execution_count": null,
   "id": "f8c8cafc-cc7f-4411-a2c6-1b4a5b4d088e",
   "metadata": {},
   "outputs": [],
   "source": [
    "funnel.graph_density()"
   ]
  }
 ],
 "metadata": {
  "kernelspec": {
   "display_name": "verlet",
   "language": "python",
   "name": "verlet"
  },
  "language_info": {
   "codemirror_mode": {
    "name": "ipython",
    "version": 3
   },
   "file_extension": ".py",
   "mimetype": "text/x-python",
   "name": "python",
   "nbconvert_exporter": "python",
   "pygments_lexer": "ipython3",
   "version": "3.9.16"
  }
 },
 "nbformat": 4,
 "nbformat_minor": 5
}
