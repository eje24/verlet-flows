{
 "cells": [
  {
   "cell_type": "code",
   "execution_count": null,
   "id": "b97a7c6e-082e-4db1-b704-a0202d94ebc1",
   "metadata": {},
   "outputs": [],
   "source": [
    "import sys\n",
    "import argparse\n",
    "\n",
    "import torch\n",
    "import pytorch_lightning as pl\n",
    "\n",
    "sys.path.append('../')\n",
    "from datasets.dist import Gaussian, GMM\n",
    "from model.cnf import CNF, parse_verlet_cnf_args, VerletCNF\n",
    "%load_ext autoreload\n",
    "%autoreload 2"
   ]
  },
  {
   "cell_type": "markdown",
   "id": "745823ec-b6c9-4433-af97-ad11744ef107",
   "metadata": {},
   "source": [
    "## 2D-CNF"
   ]
  },
  {
   "cell_type": "code",
   "execution_count": null,
   "id": "b641dd1b-f101-4401-8a01-c3cd7a5d4434",
   "metadata": {},
   "outputs": [],
   "source": [
    "# Initialize source and target\n",
    "args = argparse.Namespace(num_hidden_units = 16, \n",
    "                          num_timesteps = 25,\n",
    "                          source = 'gaussian',\n",
    "                          target = 'gmm',\n",
    "                          target_nmode = 2)       \n",
    "\n",
    "# Initialize flow\n",
    "cnf = CNF(args)\n",
    "\n",
    "# Train\n",
    "trainer = pl.Trainer(min_epochs=15, max_epochs=20)\n",
    "trainer.fit(cnf)"
   ]
  },
  {
   "cell_type": "code",
   "execution_count": null,
   "id": "2bcafa89-2440-47a4-9d4f-a3fff5bcdfeb",
   "metadata": {},
   "outputs": [],
   "source": [
    "cnf.graph_marginals(100000)"
   ]
  },
  {
   "cell_type": "code",
   "execution_count": null,
   "id": "ac505d3f-265b-47dc-aa79-5e63dc0a62a3",
   "metadata": {},
   "outputs": [],
   "source": [
    "cnf.graph_backwards_marginals(100000)"
   ]
  },
  {
   "cell_type": "code",
   "execution_count": null,
   "id": "bea5b4bb-3967-4d66-9fb2-141a968e3354",
   "metadata": {},
   "outputs": [],
   "source": [
    "trainer.save_checkpoint(f'../workdir/{NAME_HERE].ckpt')"
   ]
  },
  {
   "cell_type": "markdown",
   "id": "c2ba0904-c396-4c3d-9ff2-c8ab8f22994c",
   "metadata": {},
   "source": [
    "## Verlet-CNF"
   ]
  },
  {
   "cell_type": "code",
   "execution_count": null,
   "id": "4de16865-a35d-45b9-87f1-b1e4b2f45ec0",
   "metadata": {},
   "outputs": [],
   "source": [
    "# Initialize source and target\n",
    "args = parse_verlet_cnf_args([])  \n",
    "\n",
    "# Initialize flow\n",
    "cnf = VerletCNF(args)\n",
    "\n",
    "# Train\n",
    "trainer = pl.Trainer(min_epochs=5, max_epochs=5)\n",
    "trainer.fit(cnf)"
   ]
  },
  {
   "cell_type": "code",
   "execution_count": null,
   "id": "6c45057c-60d9-4863-9ac5-2cc99e149cd3",
   "metadata": {},
   "outputs": [],
   "source": [
    "cnf.target.q_dist.graph(10000)"
   ]
  },
  {
   "cell_type": "code",
   "execution_count": null,
   "id": "f795d32a-76c0-4d74-bff1-04563d45c7a4",
   "metadata": {},
   "outputs": [],
   "source": [
    "cnf.graph_marginals(100000)"
   ]
  },
  {
   "cell_type": "code",
   "execution_count": null,
   "id": "b836deec-9747-4d6a-aec1-a88e672d2a36",
   "metadata": {},
   "outputs": [],
   "source": [
    "cnf.graph_backwards_marginals(10000)"
   ]
  }
 ],
 "metadata": {
  "kernelspec": {
   "display_name": "verlet",
   "language": "python",
   "name": "verlet"
  },
  "language_info": {
   "codemirror_mode": {
    "name": "ipython",
    "version": 3
   },
   "file_extension": ".py",
   "mimetype": "text/x-python",
   "name": "python",
   "nbconvert_exporter": "python",
   "pygments_lexer": "ipython3",
   "version": "3.9.16"
  }
 },
 "nbformat": 4,
 "nbformat_minor": 5
}
