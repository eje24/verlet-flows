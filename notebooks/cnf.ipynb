{
 "cells": [
  {
   "cell_type": "code",
   "execution_count": null,
   "id": "b97a7c6e-082e-4db1-b704-a0202d94ebc1",
   "metadata": {},
   "outputs": [],
   "source": [
    "import sys\n",
    "import argparse\n",
    "\n",
    "import torch\n",
    "import pytorch_lightning as pl\n",
    "\n",
    "sys.path.append('../')\n",
    "from datasets.dist import Gaussian, GMM\n",
    "from model.cnf import CNF, PhaseSpaceCNF\n",
    "from utils.parsing import parse_phase_space_cnf_args\n",
    "\n",
    "%load_ext autoreload\n",
    "%autoreload 2\n",
    "\n",
    "device = torch.device('cuda' if torch.cuda.is_available() else 'cpu')"
   ]
  },
  {
   "cell_type": "markdown",
   "id": "745823ec-b6c9-4433-af97-ad11744ef107",
   "metadata": {},
   "source": [
    "## 2D-CNF"
   ]
  },
  {
   "cell_type": "code",
   "execution_count": null,
   "id": "b641dd1b-f101-4401-8a01-c3cd7a5d4434",
   "metadata": {},
   "outputs": [],
   "source": [
    "# Initialize source and target\n",
    "args = argparse.Namespace(num_hidden_units = 16, \n",
    "                          num_timesteps = 25,\n",
    "                          source = 'gaussian',\n",
    "                          target = 'gmm',\n",
    "                          target_nmode = 2)       \n",
    "\n",
    "# Initialize flow\n",
    "cnf = CNF(args)\n",
    "\n",
    "# Train\n",
    "trainer = pl.Trainer(min_epochs=1, max_epochs=1)\n",
    "trainer.fit(cnf)"
   ]
  },
  {
   "cell_type": "code",
   "execution_count": null,
   "id": "94f07a19-ac46-4830-98be-08c7e660ff19",
   "metadata": {},
   "outputs": [],
   "source": [
    "# Alternatively, load a flow\n",
    "cnf = CNF.load_from_checkpoint('../workdir/time_cnf_bimodal0.ckpt')\n",
    "cnf.eval()"
   ]
  },
  {
   "cell_type": "code",
   "execution_count": null,
   "id": "aad745a7-111c-49f4-9561-610466fbe271",
   "metadata": {},
   "outputs": [],
   "source": [
    "cnf.data_loss(N=10000)"
   ]
  },
  {
   "cell_type": "code",
   "execution_count": null,
   "id": "2bcafa89-2440-47a4-9d4f-a3fff5bcdfeb",
   "metadata": {},
   "outputs": [],
   "source": [
    "cnf.graph_marginals(num_marginals=10)"
   ]
  },
  {
   "cell_type": "code",
   "execution_count": null,
   "id": "ac505d3f-265b-47dc-aa79-5e63dc0a62a3",
   "metadata": {},
   "outputs": [],
   "source": [
    "cnf.graph_backwards_marginals(num_marginals=10)"
   ]
  },
  {
   "cell_type": "code",
   "execution_count": null,
   "id": "bea5b4bb-3967-4d66-9fb2-141a968e3354",
   "metadata": {},
   "outputs": [],
   "source": [
    "cnf.reverse_kl(num_timesteps=60, N=100000)"
   ]
  },
  {
   "cell_type": "markdown",
   "id": "c2ba0904-c396-4c3d-9ff2-c8ab8f22994c",
   "metadata": {},
   "source": [
    "## Phase Space CNF"
   ]
  },
  {
   "cell_type": "code",
   "execution_count": null,
   "id": "4de16865-a35d-45b9-87f1-b1e4b2f45ec0",
   "metadata": {},
   "outputs": [],
   "source": [
    "# Initialize source and target\n",
    "args = parse_phase_space_cnf_args(['--target=gaussian'])  \n",
    "\n",
    "# Initialize flow\n",
    "cnf = PhaseSpaceCNF(args)\n",
    "\n",
    "# Train\n",
    "trainer = pl.Trainer(min_epochs=10, max_epochs=10)\n",
    "trainer.fit(cnf)"
   ]
  },
  {
   "cell_type": "code",
   "execution_count": null,
   "id": "8542140f-ede0-4317-94c7-6a2d7a3d5ee6",
   "metadata": {},
   "outputs": [],
   "source": [
    "# Alternatively, load a trained model\n",
    "cnf = PhaseSpaceCNF.load_from_checkpoint('../workdir/hydra_test_weird_gaussian.ckpt')"
   ]
  },
  {
   "cell_type": "code",
   "execution_count": null,
   "id": "6c45057c-60d9-4863-9ac5-2cc99e149cd3",
   "metadata": {},
   "outputs": [],
   "source": [
    "from matplotlib import pyplot as plt\n",
    "x = cnf.target_set.sample(100000).detach().cpu().numpy()\n",
    "plt.hist2d(x[:,2], x[:,3], density=True, bins=100)\n",
    "plt.show()"
   ]
  },
  {
   "cell_type": "code",
   "execution_count": null,
   "id": "f795d32a-76c0-4d74-bff1-04563d45c7a4",
   "metadata": {},
   "outputs": [],
   "source": [
    "cnf.graph_marginals(num_marginals=10, N=100000)"
   ]
  },
  {
   "cell_type": "code",
   "execution_count": null,
   "id": "b836deec-9747-4d6a-aec1-a88e672d2a36",
   "metadata": {},
   "outputs": [],
   "source": [
    "cnf.graph_backwards_marginals(num_marginals=10, N=300000)"
   ]
  },
  {
   "cell_type": "code",
   "execution_count": null,
   "id": "9b13a037-460d-4220-9b76-48b98fa55c08",
   "metadata": {},
   "outputs": [],
   "source": [
    "cnf.reverse_kl()"
   ]
  }
 ],
 "metadata": {
  "kernelspec": {
   "display_name": "verlet",
   "language": "python",
   "name": "verlet"
  },
  "language_info": {
   "codemirror_mode": {
    "name": "ipython",
    "version": 3
   },
   "file_extension": ".py",
   "mimetype": "text/x-python",
   "name": "python",
   "nbconvert_exporter": "python",
   "pygments_lexer": "ipython3",
   "version": "3.9.16"
  }
 },
 "nbformat": 4,
 "nbformat_minor": 5
}
