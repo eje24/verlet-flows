{
 "cells": [
  {
   "cell_type": "code",
   "execution_count": null,
   "id": "0e1e9a52-ce2c-4a6f-b8d9-ff7676ad2620",
   "metadata": {},
   "outputs": [],
   "source": [
    "import torch\n",
    "import os, sys\n",
    "import importlib\n",
    "from argparse import ArgumentParser\n",
    "\n",
    "sys.path.append('../')\n",
    "\n",
    "from torch_geometric.loader import DataLoader\n",
    "\n",
    "from utils.utils import get_model\n",
    "from utils.parsing import parse_train_args\n",
    "from model.flow import SE3VerletFlow\n",
    "from model.coupling_layer import SE3CouplingLayer\n",
    "from datasets.pdbbind import PDBBind, InitializeVelocity\n",
    "\n",
    "WORKDIR = '/data/scratch/erives/verlet_flows/'\n",
    "\n",
    "BEST_MODEL_PATH = os.path.join(WORKDIR, 'workdir/best_model.pt')\n",
    "CACHE_PATH = os.path.join(WORKDIR, 'data/cache')\n",
    "SPLIT_TRAIN_PATH = os.path.join(WORKDIR, 'data/splits/timesplit_no_lig_overlap_train')\n",
    "DATA_PATH = os.path.join(WORKDIR, 'data/PDBBind_processed/')"
   ]
  },
  {
   "cell_type": "code",
   "execution_count": null,
   "id": "a4c66786-2415-4bdc-8bc1-13dc12d7f61f",
   "metadata": {},
   "outputs": [],
   "source": [
    "device = torch.device('cuda:0' if torch.cuda.is_available() else 'cpu')\n",
    "# state_dict = torch.load(BEST_MODEL_PATH, map_location=torch.device('cpu'))\n",
    "# flow.load_state_dict(state_dict)"
   ]
  },
  {
   "cell_type": "code",
   "execution_count": null,
   "id": "95e05aa2-bf54-4fc0-a673-4103b51b116f",
   "metadata": {},
   "outputs": [],
   "source": [
    "transform = InitializeVelocity()\n",
    "train_dataset = PDBBind(cache_path=CACHE_PATH, split_path=SPLIT_TRAIN_PATH, keep_original=True,\n",
    "                        num_conformers=1, root=DATA_PATH, c_alpha_max_neighbors=10, transform=transform)\n",
    "loader_class = DataLoader\n",
    "train_loader = loader_class(dataset=train_dataset, batch_size=1,\n",
    "                            num_workers=1, shuffle=True)"
   ]
  },
  {
   "cell_type": "code",
   "execution_count": null,
   "id": "33fa6555-168b-409a-bc08-cd696b2c1795",
   "metadata": {},
   "outputs": [],
   "source": [
    "# create model\n",
    "flow = SE3VerletFlow(device)\n",
    "\n",
    "# generate batch \n",
    "data = next(iter(train_loader))\n",
    "\n",
    "# check invertibility\n",
    "flow.check_invertible(data)"
   ]
  },
  {
   "cell_type": "code",
   "execution_count": null,
   "id": "1969a6f8-d8e7-42e7-9cb2-17b98f315f4a",
   "metadata": {},
   "outputs": [],
   "source": [
    "# create model\n",
    "coupling_layer = SE3CouplingLayer(device=device)\n",
    "\n",
    "# generate batch\n",
    "data = next(iter(train_loader))\n",
    "\n",
    "# check invertibility\n",
    "coupling_layer.check_invertibility(data)"
   ]
  }
 ],
 "metadata": {
  "kernelspec": {
   "display_name": "verlet",
   "language": "python",
   "name": "verlet"
  },
  "language_info": {
   "codemirror_mode": {
    "name": "ipython",
    "version": 3
   },
   "file_extension": ".py",
   "mimetype": "text/x-python",
   "name": "python",
   "nbconvert_exporter": "python",
   "pygments_lexer": "ipython3",
   "version": "3.9.13"
  }
 },
 "nbformat": 4,
 "nbformat_minor": 5
}
