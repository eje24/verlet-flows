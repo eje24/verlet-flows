{
 "cells": [
  {
   "cell_type": "code",
   "execution_count": 29,
   "id": "0e1e9a52-ce2c-4a6f-b8d9-ff7676ad2620",
   "metadata": {},
   "outputs": [],
   "source": [
    "import torch\n",
    "import os, sys\n",
    "from argparse import ArgumentParser\n",
    "\n",
    "sys.path.append('../')\n",
    "\n",
    "from torch_geometric.loader import DataLoader\n",
    "\n",
    "from utils.utils import get_model\n",
    "from utils.parsing import parse_train_args\n",
    "from model.flow import SE3VerletFlow\n",
    "from datasets.pdbbind import PDBBind, InitializeVelocity\n",
    "\n",
    "WORKDIR = '/data/scratch/erives/verlet_flows/'\n",
    "BEST_MODEL = 'workdir/best_model.pt'\n",
    "BEST_MODEL_PATH = os.path.join(WORKDIR, BEST_MODEL)\n",
    "\n",
    "CACHE_PATH = os.path.join(WORKDIR, 'data/cache')\n",
    "SPLIT_TRAIN_PATH = os.path.join(WORKDIR, 'data/splits/timesplit_no_lig_overlap_train')\n",
    "DATA_PATH = os.path.join(WORKDIR, 'data/PDBBind_processed/')\n"
   ]
  },
  {
   "cell_type": "code",
   "execution_count": 14,
   "id": "a4c66786-2415-4bdc-8bc1-13dc12d7f61f",
   "metadata": {},
   "outputs": [],
   "source": [
    "args = parse_train_args('')\n",
    "device = torch.device('cuda:0' if torch.cuda.is_available() else 'cpu')\n",
    "model = SE3VerletFlow(device)\n",
    "state_dict = torch.load(BEST_MODEL_PATH, map_location=torch.device('cpu'))"
   ]
  },
  {
   "cell_type": "code",
   "execution_count": 15,
   "id": "6e2aafc2-e846-4be1-8647-edeea5c77622",
   "metadata": {},
   "outputs": [
    {
     "data": {
      "text/plain": [
       "<All keys matched successfully>"
      ]
     },
     "execution_count": 15,
     "metadata": {},
     "output_type": "execute_result"
    }
   ],
   "source": [
    "model.load_state_dict(state_dict)"
   ]
  },
  {
   "cell_type": "code",
   "execution_count": 30,
   "id": "95e05aa2-bf54-4fc0-a673-4103b51b116f",
   "metadata": {},
   "outputs": [
    {
     "name": "stdout",
     "output_type": "stream",
     "text": [
      "loading data from memory:  /data/scratch/erives/verlet_flows/data/cache/limit0_INDEXtimesplit_no_lig_overlap_train_maxLigSizeNone_H1_recRad30_recMax10/heterographs.pkl\n",
      "Number of complexes:  16360\n",
      "radius protein: mean 35.422821044921875, std 11.115978240966797, max 140.3852081298828\n",
      "radius molecule: mean 8.115903854370117, std 3.1345317363739014, max 29.449182510375977\n",
      "distance protein-mol: mean 13.007867813110352, std 6.231020450592041, max 70.82417297363281\n",
      "rmsd matching: mean 0.0, std 0.0, max 0\n"
     ]
    }
   ],
   "source": [
    "transform = InitializeVelocity()\n",
    "train_dataset = PDBBind(cache_path=CACHE_PATH, split_path=SPLIT_TRAIN_PATH, keep_original=True,\n",
    "                        num_conformers=1, root=DATA_PATH, c_alpha_max_neighbors=10, transform=transform)\n",
    "loader_class = DataLoader\n",
    "train_loader = loader_class(dataset=train_dataset, batch_size=1,\n",
    "                            num_workers=1, shuffle=True, pin_memory=args.pin_memory)"
   ]
  },
  {
   "cell_type": "code",
   "execution_count": 31,
   "id": "33fa6555-168b-409a-bc08-cd696b2c1795",
   "metadata": {},
   "outputs": [
    {
     "ename": "AssertionError",
     "evalue": "",
     "output_type": "error",
     "traceback": [
      "\u001b[0;31m---------------------------------------------------------------------------\u001b[0m",
      "\u001b[0;31mAssertionError\u001b[0m                            Traceback (most recent call last)",
      "Cell \u001b[0;32mIn[31], line 2\u001b[0m\n\u001b[1;32m      1\u001b[0m \u001b[38;5;66;03m# check invertibility\u001b[39;00m\n\u001b[0;32m----> 2\u001b[0m \u001b[43mmodel\u001b[49m\u001b[38;5;241;43m.\u001b[39;49m\u001b[43mcheck_invertible\u001b[49m\u001b[43m(\u001b[49m\u001b[38;5;28;43mnext\u001b[39;49m\u001b[43m(\u001b[49m\u001b[38;5;28;43miter\u001b[39;49m\u001b[43m(\u001b[49m\u001b[43mtrain_loader\u001b[49m\u001b[43m)\u001b[49m\u001b[43m)\u001b[49m\u001b[43m)\u001b[49m\n",
      "File \u001b[0;32m/data/scratch/erives/verlet_flows/notebooks/../model/flow.py:145\u001b[0m, in \u001b[0;36mSE3VerletFlow.check_invertible\u001b[0;34m(self, data)\u001b[0m\n\u001b[1;32m    142\u001b[0m recreated_data_v_tr \u001b[38;5;241m=\u001b[39m recreated_data\u001b[38;5;241m.\u001b[39mv_rot\u001b[38;5;241m.\u001b[39mdetach()\u001b[38;5;241m.\u001b[39mclone()    \n\u001b[1;32m    144\u001b[0m \u001b[38;5;28;01massert\u001b[39;00m torch\u001b[38;5;241m.\u001b[39mallclose(data_pos, recreated_data_pos, rtol\u001b[38;5;241m=\u001b[39m\u001b[38;5;241m1e-05\u001b[39m, atol\u001b[38;5;241m=\u001b[39m\u001b[38;5;241m1e-05\u001b[39m)\n\u001b[0;32m--> 145\u001b[0m \u001b[38;5;28;01massert\u001b[39;00m torch\u001b[38;5;241m.\u001b[39mallclose(data_v_rot, recreated_data_v_rot, rtol\u001b[38;5;241m=\u001b[39m\u001b[38;5;241m1e-05\u001b[39m, atol\u001b[38;5;241m=\u001b[39m\u001b[38;5;241m1e-05\u001b[39m)\n\u001b[1;32m    146\u001b[0m \u001b[38;5;28;01massert\u001b[39;00m torch\u001b[38;5;241m.\u001b[39mallclose(data_v_tr, recreated_data_v_tr, rtol\u001b[38;5;241m=\u001b[39m\u001b[38;5;241m1e-05\u001b[39m, atol\u001b[38;5;241m=\u001b[39m\u001b[38;5;241m1e-05\u001b[39m)\n\u001b[1;32m    148\u001b[0m \u001b[38;5;28;01massert\u001b[39;00m torch\u001b[38;5;241m.\u001b[39mallclose(log_pxv, recreated_log_pxv, rtol\u001b[38;5;241m=\u001b[39m\u001b[38;5;241m1e-05\u001b[39m, atol\u001b[38;5;241m=\u001b[39m\u001b[38;5;241m1e-05\u001b[39m)\n",
      "\u001b[0;31mAssertionError\u001b[0m: "
     ]
    }
   ],
   "source": [
    "# check invertibility\n",
    "model.check_invertible(next(iter(train_loader)))"
   ]
  },
  {
   "cell_type": "code",
   "execution_count": null,
   "id": "5218a933-0a55-4380-8a13-725a064ae386",
   "metadata": {},
   "outputs": [],
   "source": []
  }
 ],
 "metadata": {
  "kernelspec": {
   "display_name": "verlet",
   "language": "python",
   "name": "verlet"
  },
  "language_info": {
   "codemirror_mode": {
    "name": "ipython",
    "version": 3
   },
   "file_extension": ".py",
   "mimetype": "text/x-python",
   "name": "python",
   "nbconvert_exporter": "python",
   "pygments_lexer": "ipython3",
   "version": "3.9.13"
  }
 },
 "nbformat": 4,
 "nbformat_minor": 5
}
